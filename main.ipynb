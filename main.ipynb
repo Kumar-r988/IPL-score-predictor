{
 "cells": [
  {
   "cell_type": "code",
   "execution_count": 1,
   "metadata": {},
   "outputs": [
    {
     "name": "stdout",
     "output_type": "stream",
     "text": [
      "WARNING:tensorflow:From c:\\Users\\kumar\\AppData\\Local\\Programs\\Python\\Python311\\Lib\\site-packages\\keras\\src\\losses.py:2976: The name tf.losses.sparse_softmax_cross_entropy is deprecated. Please use tf.compat.v1.losses.sparse_softmax_cross_entropy instead.\n",
      "\n"
     ]
    }
   ],
   "source": [
    "import pandas as pd\n",
    "import numpy as np\n",
    "import matplotlib.pyplot as plt\n",
    "import seaborn as sns\n",
    "from sklearn import preprocessing\n",
    "import keras \n",
    "import tensorflow as tf \n"
   ]
  },
  {
   "cell_type": "code",
   "execution_count": 2,
   "metadata": {},
   "outputs": [
    {
     "data": {
      "text/html": [
       "<div>\n",
       "<style scoped>\n",
       "    .dataframe tbody tr th:only-of-type {\n",
       "        vertical-align: middle;\n",
       "    }\n",
       "\n",
       "    .dataframe tbody tr th {\n",
       "        vertical-align: top;\n",
       "    }\n",
       "\n",
       "    .dataframe thead th {\n",
       "        text-align: right;\n",
       "    }\n",
       "</style>\n",
       "<table border=\"1\" class=\"dataframe\">\n",
       "  <thead>\n",
       "    <tr style=\"text-align: right;\">\n",
       "      <th></th>\n",
       "      <th>mid</th>\n",
       "      <th>date</th>\n",
       "      <th>venue</th>\n",
       "      <th>bat_team</th>\n",
       "      <th>bowl_team</th>\n",
       "      <th>batsman</th>\n",
       "      <th>bowler</th>\n",
       "      <th>runs</th>\n",
       "      <th>wickets</th>\n",
       "      <th>overs</th>\n",
       "      <th>runs_last_5</th>\n",
       "      <th>wickets_last_5</th>\n",
       "      <th>striker</th>\n",
       "      <th>non-striker</th>\n",
       "      <th>total</th>\n",
       "    </tr>\n",
       "  </thead>\n",
       "  <tbody>\n",
       "    <tr>\n",
       "      <th>0</th>\n",
       "      <td>1</td>\n",
       "      <td>2008-04-18</td>\n",
       "      <td>M Chinnaswamy Stadium</td>\n",
       "      <td>Kolkata Knight Riders</td>\n",
       "      <td>Royal Challengers Bangalore</td>\n",
       "      <td>SC Ganguly</td>\n",
       "      <td>P Kumar</td>\n",
       "      <td>1</td>\n",
       "      <td>0</td>\n",
       "      <td>0.1</td>\n",
       "      <td>1</td>\n",
       "      <td>0</td>\n",
       "      <td>0</td>\n",
       "      <td>0</td>\n",
       "      <td>222</td>\n",
       "    </tr>\n",
       "    <tr>\n",
       "      <th>1</th>\n",
       "      <td>1</td>\n",
       "      <td>2008-04-18</td>\n",
       "      <td>M Chinnaswamy Stadium</td>\n",
       "      <td>Kolkata Knight Riders</td>\n",
       "      <td>Royal Challengers Bangalore</td>\n",
       "      <td>BB McCullum</td>\n",
       "      <td>P Kumar</td>\n",
       "      <td>1</td>\n",
       "      <td>0</td>\n",
       "      <td>0.2</td>\n",
       "      <td>1</td>\n",
       "      <td>0</td>\n",
       "      <td>0</td>\n",
       "      <td>0</td>\n",
       "      <td>222</td>\n",
       "    </tr>\n",
       "    <tr>\n",
       "      <th>2</th>\n",
       "      <td>1</td>\n",
       "      <td>2008-04-18</td>\n",
       "      <td>M Chinnaswamy Stadium</td>\n",
       "      <td>Kolkata Knight Riders</td>\n",
       "      <td>Royal Challengers Bangalore</td>\n",
       "      <td>BB McCullum</td>\n",
       "      <td>P Kumar</td>\n",
       "      <td>2</td>\n",
       "      <td>0</td>\n",
       "      <td>0.2</td>\n",
       "      <td>2</td>\n",
       "      <td>0</td>\n",
       "      <td>0</td>\n",
       "      <td>0</td>\n",
       "      <td>222</td>\n",
       "    </tr>\n",
       "    <tr>\n",
       "      <th>3</th>\n",
       "      <td>1</td>\n",
       "      <td>2008-04-18</td>\n",
       "      <td>M Chinnaswamy Stadium</td>\n",
       "      <td>Kolkata Knight Riders</td>\n",
       "      <td>Royal Challengers Bangalore</td>\n",
       "      <td>BB McCullum</td>\n",
       "      <td>P Kumar</td>\n",
       "      <td>2</td>\n",
       "      <td>0</td>\n",
       "      <td>0.3</td>\n",
       "      <td>2</td>\n",
       "      <td>0</td>\n",
       "      <td>0</td>\n",
       "      <td>0</td>\n",
       "      <td>222</td>\n",
       "    </tr>\n",
       "    <tr>\n",
       "      <th>4</th>\n",
       "      <td>1</td>\n",
       "      <td>2008-04-18</td>\n",
       "      <td>M Chinnaswamy Stadium</td>\n",
       "      <td>Kolkata Knight Riders</td>\n",
       "      <td>Royal Challengers Bangalore</td>\n",
       "      <td>BB McCullum</td>\n",
       "      <td>P Kumar</td>\n",
       "      <td>2</td>\n",
       "      <td>0</td>\n",
       "      <td>0.4</td>\n",
       "      <td>2</td>\n",
       "      <td>0</td>\n",
       "      <td>0</td>\n",
       "      <td>0</td>\n",
       "      <td>222</td>\n",
       "    </tr>\n",
       "  </tbody>\n",
       "</table>\n",
       "</div>"
      ],
      "text/plain": [
       "   mid        date                  venue               bat_team  \\\n",
       "0    1  2008-04-18  M Chinnaswamy Stadium  Kolkata Knight Riders   \n",
       "1    1  2008-04-18  M Chinnaswamy Stadium  Kolkata Knight Riders   \n",
       "2    1  2008-04-18  M Chinnaswamy Stadium  Kolkata Knight Riders   \n",
       "3    1  2008-04-18  M Chinnaswamy Stadium  Kolkata Knight Riders   \n",
       "4    1  2008-04-18  M Chinnaswamy Stadium  Kolkata Knight Riders   \n",
       "\n",
       "                     bowl_team      batsman   bowler  runs  wickets  overs  \\\n",
       "0  Royal Challengers Bangalore   SC Ganguly  P Kumar     1        0    0.1   \n",
       "1  Royal Challengers Bangalore  BB McCullum  P Kumar     1        0    0.2   \n",
       "2  Royal Challengers Bangalore  BB McCullum  P Kumar     2        0    0.2   \n",
       "3  Royal Challengers Bangalore  BB McCullum  P Kumar     2        0    0.3   \n",
       "4  Royal Challengers Bangalore  BB McCullum  P Kumar     2        0    0.4   \n",
       "\n",
       "   runs_last_5  wickets_last_5  striker  non-striker  total  \n",
       "0            1               0        0            0    222  \n",
       "1            1               0        0            0    222  \n",
       "2            2               0        0            0    222  \n",
       "3            2               0        0            0    222  \n",
       "4            2               0        0            0    222  "
      ]
     },
     "execution_count": 2,
     "metadata": {},
     "output_type": "execute_result"
    }
   ],
   "source": [
    "ipl = pd.read_csv('ipl_data.csv')\n",
    "ipl.head()\n"
   ]
  },
  {
   "cell_type": "code",
   "execution_count": 3,
   "metadata": {},
   "outputs": [],
   "source": [
    "#Dropping certain features \n",
    "df = ipl.drop(['date', 'runs', 'wickets', 'overs', 'runs_last_5', 'wickets_last_5','mid', 'striker', 'non-striker'], axis =1)\n",
    "#We have created a new dataframe by dropping several columns from the original DataFrame.\n",
    "#The new DataFrame contains the remaining columns that we are going to train the predictive model."
   ]
  },
  {
   "cell_type": "code",
   "execution_count": 4,
   "metadata": {},
   "outputs": [],
   "source": [
    "X = df.drop(['total'], axis =1)\n",
    "y = df['total']\n",
    "# We have split the data frame into independent variable (X) and dependent variables (y). \n",
    "# Our dependent variables is the total score."
   ]
  },
  {
   "cell_type": "code",
   "execution_count": 5,
   "metadata": {},
   "outputs": [],
   "source": [
    "#Label Encoding\n",
    "\n",
    "from sklearn.preprocessing import LabelEncoder\n",
    "\n",
    "# Create a LabelEncoder object for each categorical feature\n",
    "venue_encoder = LabelEncoder()\n",
    "batting_team_encoder = LabelEncoder()\n",
    "bowling_team_encoder = LabelEncoder()\n",
    "striker_encoder = LabelEncoder()\n",
    "bowler_encoder = LabelEncoder()\n",
    "\n",
    "# Fit and transform the categorical features with label encoding\n",
    "X['venue'] = venue_encoder.fit_transform(X['venue'])\n",
    "X['bat_team'] = batting_team_encoder.fit_transform(X['bat_team'])\n",
    "X['bowl_team'] = bowling_team_encoder.fit_transform(X['bowl_team'])\n",
    "X['batsman'] = striker_encoder.fit_transform(X['batsman'])\n",
    "X['bowler'] = bowler_encoder.fit_transform(X['bowler'])\n",
    "\n",
    "# We have applied label encoding to your categorical features in X.\n",
    "# We have created separate LabelEncoder objects for each categorical feature and encoded their values.\n",
    "# We have created mappings to convert the encoded labels back to their original values, which can be helpful for interpreting the results."
   ]
  },
  {
   "cell_type": "code",
   "execution_count": 6,
   "metadata": {},
   "outputs": [],
   "source": [
    "# We have split the data into training and testing sets. The training set contains 70 percent of the dataset and rest 30 percent is in test set.\n",
    "# X_train contains the training data for your input features.\n",
    "# X_test contains the testing data for your input features.\n",
    "# y_train contains the training data for your target variable.\n",
    "# y_test contains the testing data for your target variable.\n",
    "\n",
    "# Train test Split \n",
    "\n",
    "# Train test Split \n",
    "from sklearn.model_selection import train_test_split\n",
    "X_train, X_test, y_train, y_test = train_test_split(X, y, test_size=0.3, random_state=42)\n"
   ]
  },
  {
   "cell_type": "code",
   "execution_count": 7,
   "metadata": {},
   "outputs": [],
   "source": [
    "from sklearn.preprocessing import MinMaxScaler\n",
    "\n",
    "scaler = MinMaxScaler()\n",
    "\n",
    "# Fit the scaler on the training data and transform both training and testing data\n",
    "X_train_scaled = scaler.fit_transform(X_train)\n",
    "X_test_scaled = scaler.transform(X_test)\n",
    "#We have performed Min-Max scaling on our input features to ensure all the features are on the same scale\n",
    "#Scaling is performed to ensure consistent scale to improve model performance.\n",
    "#Scaling has transformed both training and testing data using the scaling parameters."
   ]
  },
  {
   "cell_type": "code",
   "execution_count": 8,
   "metadata": {},
   "outputs": [
    {
     "name": "stdout",
     "output_type": "stream",
     "text": [
      "WARNING:tensorflow:From c:\\Users\\kumar\\AppData\\Local\\Programs\\Python\\Python311\\Lib\\site-packages\\keras\\src\\backend.py:1398: The name tf.executing_eagerly_outside_functions is deprecated. Please use tf.compat.v1.executing_eagerly_outside_functions instead.\n",
      "\n",
      "WARNING:tensorflow:From c:\\Users\\kumar\\AppData\\Local\\Programs\\Python\\Python311\\Lib\\site-packages\\keras\\src\\optimizers\\__init__.py:309: The name tf.train.Optimizer is deprecated. Please use tf.compat.v1.train.Optimizer instead.\n",
      "\n"
     ]
    }
   ],
   "source": [
    "# Train test Split \n",
    "\n",
    "# We have defined a neural network using TensorFlow and Keras for regression.\n",
    "# After defining the model, we have compiled the model using the Huber Loss because of the robustness of the regression against outliers.\n",
    "# Define the neural network model\n",
    "model = keras.Sequential([\n",
    "    keras.layers.Input( shape=(X_train_scaled.shape[1],)),  # Input layer\n",
    "    keras.layers.Dense(512, activation='relu'),  # Hidden layer with 512 units and ReLU activation\n",
    "    keras.layers.Dense(216, activation='relu'),  # Hidden layer with 216 units and ReLU activation\n",
    "    keras.layers.Dense(1, activation='linear')  # Output layer with linear activation for regression\n",
    "])\n",
    "\n",
    "# Compile the model with Huber loss\n",
    "huber_loss = tf.keras.losses.Huber(delta=1.0)  # You can adjust the 'delta' parameter as needed\n",
    "model.compile(optimizer='adam', loss=huber_loss)  # Use Huber loss for regression\n"
   ]
  },
  {
   "cell_type": "code",
   "execution_count": 9,
   "metadata": {},
   "outputs": [
    {
     "name": "stdout",
     "output_type": "stream",
     "text": [
      "Epoch 1/50\n",
      "WARNING:tensorflow:From c:\\Users\\kumar\\AppData\\Local\\Programs\\Python\\Python311\\Lib\\site-packages\\keras\\src\\utils\\tf_utils.py:492: The name tf.ragged.RaggedTensorValue is deprecated. Please use tf.compat.v1.ragged.RaggedTensorValue instead.\n",
      "\n",
      "832/832 [==============================] - 20s 16ms/step - loss: 32.5166 - val_loss: 22.0726\n",
      "Epoch 2/50\n",
      "832/832 [==============================] - 13s 16ms/step - loss: 22.3460 - val_loss: 22.0294\n",
      "Epoch 3/50\n",
      "832/832 [==============================] - 13s 16ms/step - loss: 22.3040 - val_loss: 22.0835\n",
      "Epoch 4/50\n",
      "832/832 [==============================] - 13s 16ms/step - loss: 22.2665 - val_loss: 21.8987\n",
      "Epoch 5/50\n",
      "832/832 [==============================] - 12s 15ms/step - loss: 22.2125 - val_loss: 21.9770\n",
      "Epoch 6/50\n",
      "832/832 [==============================] - 12s 15ms/step - loss: 22.1766 - val_loss: 21.9042\n",
      "Epoch 7/50\n",
      "832/832 [==============================] - 12s 15ms/step - loss: 22.2052 - val_loss: 21.8492\n",
      "Epoch 8/50\n",
      "832/832 [==============================] - 13s 15ms/step - loss: 22.1284 - val_loss: 21.8407\n",
      "Epoch 9/50\n",
      "832/832 [==============================] - 12s 15ms/step - loss: 22.1246 - val_loss: 22.1990\n",
      "Epoch 10/50\n",
      "832/832 [==============================] - 9s 10ms/step - loss: 22.0982 - val_loss: 21.7595\n",
      "Epoch 11/50\n",
      "832/832 [==============================] - 4s 4ms/step - loss: 22.1252 - val_loss: 21.8377\n",
      "Epoch 12/50\n",
      "832/832 [==============================] - 3s 4ms/step - loss: 22.0917 - val_loss: 21.7970\n",
      "Epoch 13/50\n",
      "832/832 [==============================] - 4s 4ms/step - loss: 22.0458 - val_loss: 21.8641\n",
      "Epoch 14/50\n",
      "832/832 [==============================] - 3s 4ms/step - loss: 22.0621 - val_loss: 21.7610\n",
      "Epoch 15/50\n",
      "832/832 [==============================] - 4s 4ms/step - loss: 22.0379 - val_loss: 21.7689\n",
      "Epoch 16/50\n",
      "832/832 [==============================] - 3s 4ms/step - loss: 22.0418 - val_loss: 21.9863\n",
      "Epoch 17/50\n",
      "832/832 [==============================] - 3s 4ms/step - loss: 21.9844 - val_loss: 21.9200\n",
      "Epoch 18/50\n",
      "832/832 [==============================] - 3s 4ms/step - loss: 21.9109 - val_loss: 21.5843\n",
      "Epoch 19/50\n",
      "832/832 [==============================] - 3s 4ms/step - loss: 21.8402 - val_loss: 21.5500\n",
      "Epoch 20/50\n",
      "832/832 [==============================] - 3s 4ms/step - loss: 21.7836 - val_loss: 21.9124\n",
      "Epoch 21/50\n",
      "832/832 [==============================] - 3s 4ms/step - loss: 21.7200 - val_loss: 21.5389\n",
      "Epoch 22/50\n",
      "832/832 [==============================] - 5s 6ms/step - loss: 21.6824 - val_loss: 21.4434\n",
      "Epoch 23/50\n",
      "832/832 [==============================] - 4s 5ms/step - loss: 21.6496 - val_loss: 21.3498\n",
      "Epoch 24/50\n",
      "832/832 [==============================] - 5s 6ms/step - loss: 21.5611 - val_loss: 21.2931\n",
      "Epoch 25/50\n",
      "832/832 [==============================] - 5s 6ms/step - loss: 21.4678 - val_loss: 21.2898\n",
      "Epoch 26/50\n",
      "832/832 [==============================] - 5s 6ms/step - loss: 21.4642 - val_loss: 21.2018\n",
      "Epoch 27/50\n",
      "832/832 [==============================] - 5s 6ms/step - loss: 21.3731 - val_loss: 21.4907\n",
      "Epoch 28/50\n",
      "832/832 [==============================] - 5s 6ms/step - loss: 21.3128 - val_loss: 21.0165\n",
      "Epoch 29/50\n",
      "832/832 [==============================] - 5s 6ms/step - loss: 21.2414 - val_loss: 20.9311\n",
      "Epoch 30/50\n",
      "832/832 [==============================] - 5s 6ms/step - loss: 21.1918 - val_loss: 21.7485\n",
      "Epoch 31/50\n",
      "832/832 [==============================] - 5s 6ms/step - loss: 21.1355 - val_loss: 21.1140\n",
      "Epoch 32/50\n",
      "832/832 [==============================] - 5s 6ms/step - loss: 21.0817 - val_loss: 20.8100\n",
      "Epoch 33/50\n",
      "832/832 [==============================] - 5s 6ms/step - loss: 21.0577 - val_loss: 20.7677\n",
      "Epoch 34/50\n",
      "832/832 [==============================] - 5s 5ms/step - loss: 20.9372 - val_loss: 20.7008\n",
      "Epoch 35/50\n",
      "832/832 [==============================] - 4s 5ms/step - loss: 20.9159 - val_loss: 21.2160\n",
      "Epoch 36/50\n",
      "832/832 [==============================] - 5s 6ms/step - loss: 20.7990 - val_loss: 20.5547\n",
      "Epoch 37/50\n",
      "832/832 [==============================] - 5s 6ms/step - loss: 20.7238 - val_loss: 20.4322\n",
      "Epoch 38/50\n",
      "832/832 [==============================] - 5s 6ms/step - loss: 20.6366 - val_loss: 20.3700\n",
      "Epoch 39/50\n",
      "832/832 [==============================] - 5s 6ms/step - loss: 20.5895 - val_loss: 20.7174\n",
      "Epoch 40/50\n",
      "832/832 [==============================] - 4s 5ms/step - loss: 20.4500 - val_loss: 20.1034\n",
      "Epoch 41/50\n",
      "832/832 [==============================] - 5s 6ms/step - loss: 20.3574 - val_loss: 20.1186\n",
      "Epoch 42/50\n",
      "832/832 [==============================] - 4s 5ms/step - loss: 20.2715 - val_loss: 20.2095\n",
      "Epoch 43/50\n",
      "832/832 [==============================] - 5s 5ms/step - loss: 20.1263 - val_loss: 19.8536\n",
      "Epoch 44/50\n",
      "832/832 [==============================] - 4s 5ms/step - loss: 19.9914 - val_loss: 19.6914\n",
      "Epoch 45/50\n",
      "832/832 [==============================] - 4s 5ms/step - loss: 19.9395 - val_loss: 19.9421\n",
      "Epoch 46/50\n",
      "832/832 [==============================] - 4s 5ms/step - loss: 19.8101 - val_loss: 19.5144\n",
      "Epoch 47/50\n",
      "832/832 [==============================] - 4s 5ms/step - loss: 19.7016 - val_loss: 19.5132\n",
      "Epoch 48/50\n",
      "832/832 [==============================] - 4s 5ms/step - loss: 19.5801 - val_loss: 19.4124\n",
      "Epoch 49/50\n",
      "832/832 [==============================] - 5s 5ms/step - loss: 19.4799 - val_loss: 19.1729\n",
      "Epoch 50/50\n",
      "832/832 [==============================] - 5s 6ms/step - loss: 19.4198 - val_loss: 19.1414\n"
     ]
    },
    {
     "data": {
      "text/plain": [
       "<keras.src.callbacks.History at 0x217e3d307d0>"
      ]
     },
     "execution_count": 9,
     "metadata": {},
     "output_type": "execute_result"
    }
   ],
   "source": [
    "# We have trained the neural network model using the scaled training data.\n",
    "# Train the model\n",
    "model.fit(X_train_scaled, y_train, epochs=50, batch_size=64, validation_data=(X_test_scaled, y_test))\n"
   ]
  },
  {
   "cell_type": "code",
   "execution_count": 10,
   "metadata": {},
   "outputs": [
    {
     "data": {
      "text/plain": [
       "<Axes: >"
      ]
     },
     "execution_count": 10,
     "metadata": {},
     "output_type": "execute_result"
    },
    {
     "data": {
      "image/png": "[encoded data removed]",
      "text/plain": [
       "<Figure size 640x480 with 1 Axes>"
      ]
     },
     "metadata": {},
     "output_type": "display_data"
    }
   ],
   "source": [
    "#After the training, we have stored the training and validation loss values to our neural network during the training process.\n",
    "\n",
    "model_losses = pd.DataFrame(model.history.history)\n",
    "model_losses.plot()\n"
   ]
  },
  {
   "cell_type": "code",
   "execution_count": 11,
   "metadata": {},
   "outputs": [
    {
     "name": "stdout",
     "output_type": "stream",
     "text": [
      "713/713 [==============================] - 1s 1ms/step\n"
     ]
    },
    {
     "data": {
      "text/plain": [
       "19.632756316810813"
      ]
     },
     "execution_count": 11,
     "metadata": {},
     "output_type": "execute_result"
    }
   ],
   "source": [
    "#We have predicted using the trained neural network on the testing data.\n",
    "#The variable predictions contains the predicted total run scores for the test set based on the model’s learned patterns\n",
    "\n",
    "# Make predictions\n",
    "predictions = model.predict(X_test_scaled)\n",
    "\n",
    "from sklearn.metrics import mean_absolute_error,mean_squared_error\n",
    "mean_absolute_error(y_test,predictions)\n",
    "\n"
   ]
  },
  {
   "cell_type": "code",
   "execution_count": 12,
   "metadata": {},
   "outputs": [],
   "source": [
    "\"\"\" We have created an interactive widget using ipywidgets to predict the score based on user input for venue, batting team, bowling team, striker, and bowler.\n",
    "We have created dropdown widgets to select values for venue, batting team, bowling team, striker, and bowler.\n",
    "Then, we have added a “Predicted Score” button widget. Whenever, the button will be clicked, the predict_score function will be called and then perform the following steps:\n",
    "Decodes the user-selected values to their original categorical values.\n",
    "Encodes and scales these values to match the format used in model training.\n",
    "Uses the trained model to make a prediction based on the user’s input.\n",
    "Displays the predicted score. \"\"\"\n",
    "\n",
    "\n",
    "import ipywidgets as widgets\n",
    "from IPython.display import display, clear_output\n",
    "\n",
    "import warnings\n",
    "warnings.filterwarnings(\"ignore\")\n",
    "\n",
    "venue = widgets.Dropdown(options=df['venue'].unique().tolist(),description='Select Venue:')\n",
    "batting_team = widgets.Dropdown(options =df['bat_team'].unique().tolist(),  description='Select Batting Team:')\n",
    "bowling_team = widgets.Dropdown(options=df['bowl_team'].unique().tolist(),  description='Select Batting Team:')\n",
    "striker = widgets.Dropdown(options=df['batsman'].unique().tolist(), description='Select Striker:')\n",
    "bowler = widgets.Dropdown(options=df['bowler'].unique().tolist(), description='Select Bowler:')\n",
    "\n",
    "predict_button = widgets.Button(description=\"Predict Score\")\n",
    "\n",
    "def predict_score(b):\n",
    "    with output:\n",
    "        clear_output()  # Clear the previous output\n",
    "        \n",
    "\n",
    "        # Decode the encoded values back to their original values\n",
    "        decoded_venue = venue_encoder.transform([venue.value])\n",
    "        decoded_batting_team = batting_team_encoder.transform([batting_team.value])\n",
    "        decoded_bowling_team = bowling_team_encoder.transform([bowling_team.value])\n",
    "        decoded_striker = striker_encoder.transform([striker.value])\n",
    "        decoded_bowler = bowler_encoder.transform([bowler.value])\n",
    "\n",
    "\n",
    "        input = np.array([decoded_venue,  decoded_batting_team, decoded_bowling_team,decoded_striker, decoded_bowler])\n",
    "        input = input.reshape(1,5)\n",
    "        input = scaler.transform(input)\n",
    "        #print(input)\n",
    "        predicted_score = model.predict(input)\n",
    "        predicted_score = int(predicted_score[0,0])\n",
    "\n",
    "        print(predicted_score)\n"
   ]
  },
  {
   "cell_type": "code",
   "execution_count": 13,
   "metadata": {},
   "outputs": [
    {
     "data": {
      "application/vnd.jupyter.widget-view+json": {
       "model_id": "a98c0a13e5524e9d905fb912db11ed4f",
       "version_major": 2,
       "version_minor": 0
      },
      "text/plain": [
       "Dropdown(description='Select Venue:', options=('M Chinnaswamy Stadium', 'Punjab Cricket Association Stadium, M…"
      ]
     },
     "metadata": {},
     "output_type": "display_data"
    },
    {
     "data": {
      "application/vnd.jupyter.widget-view+json": {
       "model_id": "8577cfcbef8d4149b46a03d65b658b2a",
       "version_major": 2,
       "version_minor": 0
      },
      "text/plain": [
       "Dropdown(description='Select Batting Team:', options=('Kolkata Knight Riders', 'Chennai Super Kings', 'Rajasth…"
      ]
     },
     "metadata": {},
     "output_type": "display_data"
    },
    {
     "data": {
      "application/vnd.jupyter.widget-view+json": {
       "model_id": "67effa7c4b2049cd8647f5d608a0806d",
       "version_major": 2,
       "version_minor": 0
      },
      "text/plain": [
       "Dropdown(description='Select Batting Team:', options=('Royal Challengers Bangalore', 'Kings XI Punjab', 'Delhi…"
      ]
     },
     "metadata": {},
     "output_type": "display_data"
    },
    {
     "data": {
      "application/vnd.jupyter.widget-view+json": {
       "model_id": "e61fc1dfc6d849d19f4fadb6ceaed31f",
       "version_major": 2,
       "version_minor": 0
      },
      "text/plain": [
       "Dropdown(description='Select Striker:', options=('SC Ganguly', 'BB McCullum', 'RT Ponting', 'DJ Hussey', 'Moha…"
      ]
     },
     "metadata": {},
     "output_type": "display_data"
    },
    {
     "data": {
      "application/vnd.jupyter.widget-view+json": {
       "model_id": "a8bff986834f4e2d9e6a674ba287d9e5",
       "version_major": 2,
       "version_minor": 0
      },
      "text/plain": [
       "Dropdown(description='Select Bowler:', options=('P Kumar', 'Z Khan', 'AA Noffke', 'JH Kallis', 'SB Joshi', 'CL…"
      ]
     },
     "metadata": {},
     "output_type": "display_data"
    },
    {
     "data": {
      "application/vnd.jupyter.widget-view+json": {
       "model_id": "e85b213cc82f4fdd94be8ba08c4e1712",
       "version_major": 2,
       "version_minor": 0
      },
      "text/plain": [
       "Button(description='Predict Score', style=ButtonStyle())"
      ]
     },
     "metadata": {},
     "output_type": "display_data"
    },
    {
     "data": {
      "application/vnd.jupyter.widget-view+json": {
       "model_id": "b8e8391a9988470fb1f499ddab605dba",
       "version_major": 2,
       "version_minor": 0
      },
      "text/plain": [
       "Output()"
      ]
     },
     "metadata": {},
     "output_type": "display_data"
    }
   ],
   "source": [
    "#The widget-based interface allows you to interactively predict the score for specific match scenarios. Now, we have set up the button to trigger the predict_score function when clicked and display the widgets for venue, batting team , bowling team, striker and bowler.\n",
    "\n",
    "predict_button.on_click(predict_score)\n",
    "output = widgets.Output()\n",
    "display(venue, batting_team, bowling_team, striker, bowler, predict_button, output)\n"
   ]
  },
  {
   "cell_type": "code",
   "execution_count": null,
   "metadata": {},
   "outputs": [],
   "source": []
  }
 ],
 "metadata": {
  "kernelspec": {
   "display_name": "Python 3",
   "language": "python",
   "name": "python3"
  },
  "language_info": {
   "codemirror_mode": {
    "name": "ipython",
    "version": 3
   },
   "file_extension": ".py",
   "mimetype": "text/x-python",
   "name": "python",
   "nbconvert_exporter": "python",
   "pygments_lexer": "ipython3",
   "version": "3.11.6"
  }
 },
 "nbformat": 4,
 "nbformat_minor": 2
}
