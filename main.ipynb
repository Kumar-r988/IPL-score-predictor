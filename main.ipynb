{
 "cells": [
  {
   "cell_type": "code",
   "execution_count": 29,
   "metadata": {},
   "outputs": [],
   "source": [
    "import pandas as pd\n",
    "import numpy as np\n",
    "import matplotlib.pyplot as plt\n",
    "import seaborn as sns\n",
    "from sklearn import preprocessing\n",
    "import keras \n",
    "import tensorflow as tf \n"
   ]
  },
  {
   "cell_type": "code",
   "execution_count": 30,
   "metadata": {},
   "outputs": [
    {
     "data": {
      "text/html": [
       "<div>\n",
       "<style scoped>\n",
       "    .dataframe tbody tr th:only-of-type {\n",
       "        vertical-align: middle;\n",
       "    }\n",
       "\n",
       "    .dataframe tbody tr th {\n",
       "        vertical-align: top;\n",
       "    }\n",
       "\n",
       "    .dataframe thead th {\n",
       "        text-align: right;\n",
       "    }\n",
       "</style>\n",
       "<table border=\"1\" class=\"dataframe\">\n",
       "  <thead>\n",
       "    <tr style=\"text-align: right;\">\n",
       "      <th></th>\n",
       "      <th>mid</th>\n",
       "      <th>date</th>\n",
       "      <th>venue</th>\n",
       "      <th>bat_team</th>\n",
       "      <th>bowl_team</th>\n",
       "      <th>batsman</th>\n",
       "      <th>bowler</th>\n",
       "      <th>runs</th>\n",
       "      <th>wickets</th>\n",
       "      <th>overs</th>\n",
       "      <th>runs_last_5</th>\n",
       "      <th>wickets_last_5</th>\n",
       "      <th>striker</th>\n",
       "      <th>non-striker</th>\n",
       "      <th>total</th>\n",
       "    </tr>\n",
       "  </thead>\n",
       "  <tbody>\n",
       "    <tr>\n",
       "      <th>0</th>\n",
       "      <td>1</td>\n",
       "      <td>2008-04-18</td>\n",
       "      <td>M Chinnaswamy Stadium</td>\n",
       "      <td>Kolkata Knight Riders</td>\n",
       "      <td>Royal Challengers Bangalore</td>\n",
       "      <td>SC Ganguly</td>\n",
       "      <td>P Kumar</td>\n",
       "      <td>1</td>\n",
       "      <td>0</td>\n",
       "      <td>0.1</td>\n",
       "      <td>1</td>\n",
       "      <td>0</td>\n",
       "      <td>0</td>\n",
       "      <td>0</td>\n",
       "      <td>222</td>\n",
       "    </tr>\n",
       "    <tr>\n",
       "      <th>1</th>\n",
       "      <td>1</td>\n",
       "      <td>2008-04-18</td>\n",
       "      <td>M Chinnaswamy Stadium</td>\n",
       "      <td>Kolkata Knight Riders</td>\n",
       "      <td>Royal Challengers Bangalore</td>\n",
       "      <td>BB McCullum</td>\n",
       "      <td>P Kumar</td>\n",
       "      <td>1</td>\n",
       "      <td>0</td>\n",
       "      <td>0.2</td>\n",
       "      <td>1</td>\n",
       "      <td>0</td>\n",
       "      <td>0</td>\n",
       "      <td>0</td>\n",
       "      <td>222</td>\n",
       "    </tr>\n",
       "    <tr>\n",
       "      <th>2</th>\n",
       "      <td>1</td>\n",
       "      <td>2008-04-18</td>\n",
       "      <td>M Chinnaswamy Stadium</td>\n",
       "      <td>Kolkata Knight Riders</td>\n",
       "      <td>Royal Challengers Bangalore</td>\n",
       "      <td>BB McCullum</td>\n",
       "      <td>P Kumar</td>\n",
       "      <td>2</td>\n",
       "      <td>0</td>\n",
       "      <td>0.2</td>\n",
       "      <td>2</td>\n",
       "      <td>0</td>\n",
       "      <td>0</td>\n",
       "      <td>0</td>\n",
       "      <td>222</td>\n",
       "    </tr>\n",
       "    <tr>\n",
       "      <th>3</th>\n",
       "      <td>1</td>\n",
       "      <td>2008-04-18</td>\n",
       "      <td>M Chinnaswamy Stadium</td>\n",
       "      <td>Kolkata Knight Riders</td>\n",
       "      <td>Royal Challengers Bangalore</td>\n",
       "      <td>BB McCullum</td>\n",
       "      <td>P Kumar</td>\n",
       "      <td>2</td>\n",
       "      <td>0</td>\n",
       "      <td>0.3</td>\n",
       "      <td>2</td>\n",
       "      <td>0</td>\n",
       "      <td>0</td>\n",
       "      <td>0</td>\n",
       "      <td>222</td>\n",
       "    </tr>\n",
       "    <tr>\n",
       "      <th>4</th>\n",
       "      <td>1</td>\n",
       "      <td>2008-04-18</td>\n",
       "      <td>M Chinnaswamy Stadium</td>\n",
       "      <td>Kolkata Knight Riders</td>\n",
       "      <td>Royal Challengers Bangalore</td>\n",
       "      <td>BB McCullum</td>\n",
       "      <td>P Kumar</td>\n",
       "      <td>2</td>\n",
       "      <td>0</td>\n",
       "      <td>0.4</td>\n",
       "      <td>2</td>\n",
       "      <td>0</td>\n",
       "      <td>0</td>\n",
       "      <td>0</td>\n",
       "      <td>222</td>\n",
       "    </tr>\n",
       "  </tbody>\n",
       "</table>\n",
       "</div>"
      ],
      "text/plain": [
       "   mid        date                  venue               bat_team  \\\n",
       "0    1  2008-04-18  M Chinnaswamy Stadium  Kolkata Knight Riders   \n",
       "1    1  2008-04-18  M Chinnaswamy Stadium  Kolkata Knight Riders   \n",
       "2    1  2008-04-18  M Chinnaswamy Stadium  Kolkata Knight Riders   \n",
       "3    1  2008-04-18  M Chinnaswamy Stadium  Kolkata Knight Riders   \n",
       "4    1  2008-04-18  M Chinnaswamy Stadium  Kolkata Knight Riders   \n",
       "\n",
       "                     bowl_team      batsman   bowler  runs  wickets  overs  \\\n",
       "0  Royal Challengers Bangalore   SC Ganguly  P Kumar     1        0    0.1   \n",
       "1  Royal Challengers Bangalore  BB McCullum  P Kumar     1        0    0.2   \n",
       "2  Royal Challengers Bangalore  BB McCullum  P Kumar     2        0    0.2   \n",
       "3  Royal Challengers Bangalore  BB McCullum  P Kumar     2        0    0.3   \n",
       "4  Royal Challengers Bangalore  BB McCullum  P Kumar     2        0    0.4   \n",
       "\n",
       "   runs_last_5  wickets_last_5  striker  non-striker  total  \n",
       "0            1               0        0            0    222  \n",
       "1            1               0        0            0    222  \n",
       "2            2               0        0            0    222  \n",
       "3            2               0        0            0    222  \n",
       "4            2               0        0            0    222  "
      ]
     },
     "execution_count": 30,
     "metadata": {},
     "output_type": "execute_result"
    }
   ],
   "source": [
    "ipl = pd.read_csv('ipl_data.csv')\n",
    "ipl.head()\n"
   ]
  },
  {
   "cell_type": "code",
   "execution_count": 31,
   "metadata": {},
   "outputs": [],
   "source": [
    "#Dropping certain features \n",
    "df = ipl.drop(['date', 'runs', 'wickets', 'overs', 'runs_last_5', 'wickets_last_5','mid', 'striker', 'non-striker'], axis =1)\n",
    "#We have created a new dataframe by dropping several columns from the original DataFrame.\n",
    "#The new DataFrame contains the remaining columns that we are going to train the predictive model."
   ]
  },
  {
   "cell_type": "code",
   "execution_count": 32,
   "metadata": {},
   "outputs": [],
   "source": [
    "X = df.drop(['total'], axis =1)\n",
    "y = df['total']\n",
    "# We have split the data frame into independent variable (X) and dependent variables (y). \n",
    "# Our dependent variables is the total score."
   ]
  },
  {
   "cell_type": "code",
   "execution_count": 33,
   "metadata": {},
   "outputs": [],
   "source": [
    "#Label Encoding\n",
    "\n",
    "from sklearn.preprocessing import LabelEncoder\n",
    "\n",
    "# Create a LabelEncoder object for each categorical feature\n",
    "venue_encoder = LabelEncoder()\n",
    "batting_team_encoder = LabelEncoder()\n",
    "bowling_team_encoder = LabelEncoder()\n",
    "striker_encoder = LabelEncoder()\n",
    "bowler_encoder = LabelEncoder()\n",
    "\n",
    "# Fit and transform the categorical features with label encoding\n",
    "X['venue'] = venue_encoder.fit_transform(X['venue'])\n",
    "X['bat_team'] = batting_team_encoder.fit_transform(X['bat_team'])\n",
    "X['bowl_team'] = bowling_team_encoder.fit_transform(X['bowl_team'])\n",
    "X['batsman'] = striker_encoder.fit_transform(X['batsman'])\n",
    "X['bowler'] = bowler_encoder.fit_transform(X['bowler'])\n",
    "\n",
    "# We have applied label encoding to your categorical features in X.\n",
    "# We have created separate LabelEncoder objects for each categorical feature and encoded their values.\n",
    "# We have created mappings to convert the encoded labels back to their original values, which can be helpful for interpreting the results."
   ]
  },
  {
   "cell_type": "code",
   "execution_count": 34,
   "metadata": {},
   "outputs": [],
   "source": [
    "# We have split the data into training and testing sets. The training set contains 70 percent of the dataset and rest 30 percent is in test set.\n",
    "# X_train contains the training data for your input features.\n",
    "# X_test contains the testing data for your input features.\n",
    "# y_train contains the training data for your target variable.\n",
    "# y_test contains the testing data for your target variable.\n",
    "\n",
    "# Train test Split \n",
    "\n",
    "# Train test Split \n",
    "from sklearn.model_selection import train_test_split\n",
    "X_train, X_test, y_train, y_test = train_test_split(X, y, test_size=0.3, random_state=42)\n"
   ]
  },
  {
   "cell_type": "code",
   "execution_count": 35,
   "metadata": {},
   "outputs": [],
   "source": [
    "from sklearn.preprocessing import MinMaxScaler\n",
    "\n",
    "scaler = MinMaxScaler()\n",
    "\n",
    "# Fit the scaler on the training data and transform both training and testing data\n",
    "X_train_scaled = scaler.fit_transform(X_train)\n",
    "X_test_scaled = scaler.transform(X_test)\n",
    "#We have performed Min-Max scaling on our input features to ensure all the features are on the same scale\n",
    "#Scaling is performed to ensure consistent scale to improve model performance.\n",
    "#Scaling has transformed both training and testing data using the scaling parameters."
   ]
  },
  {
   "cell_type": "code",
   "execution_count": 36,
   "metadata": {},
   "outputs": [],
   "source": [
    "# Train test Split \n",
    "\n",
    "# We have defined a neural network using TensorFlow and Keras for regression.\n",
    "# After defining the model, we have compiled the model using the Huber Loss because of the robustness of the regression against outliers.\n",
    "# Define the neural network model\n",
    "model = keras.Sequential([\n",
    "    keras.layers.Input( shape=(X_train_scaled.shape[1],)),  # Input layer\n",
    "    keras.layers.Dense(512, activation='relu'),  # Hidden layer with 512 units and ReLU activation\n",
    "    keras.layers.Dense(216, activation='relu'),  # Hidden layer with 216 units and ReLU activation\n",
    "    keras.layers.Dense(1, activation='linear')  # Output layer with linear activation for regression\n",
    "])\n",
    "\n",
    "# Compile the model with Huber loss\n",
    "huber_loss = tf.keras.losses.Huber(delta=1.0)  # You can adjust the 'delta' parameter as needed\n",
    "model.compile(optimizer='adam', loss=huber_loss)  # Use Huber loss for regression\n"
   ]
  },
  {
   "cell_type": "code",
   "execution_count": 37,
   "metadata": {},
   "outputs": [
    {
     "name": "stdout",
     "output_type": "stream",
     "text": [
      "Epoch 1/50\n",
      "832/832 [==============================] - 8s 8ms/step - loss: 32.3546 - val_loss: 22.0857\n",
      "Epoch 2/50\n",
      "832/832 [==============================] - 7s 8ms/step - loss: 22.3571 - val_loss: 21.9705\n",
      "Epoch 3/50\n",
      "832/832 [==============================] - 5s 6ms/step - loss: 22.2694 - val_loss: 22.1127\n",
      "Epoch 4/50\n",
      "832/832 [==============================] - 6s 7ms/step - loss: 22.2565 - val_loss: 22.4277\n",
      "Epoch 5/50\n",
      "832/832 [==============================] - 6s 7ms/step - loss: 22.2272 - val_loss: 22.3272\n",
      "Epoch 6/50\n",
      "832/832 [==============================] - 7s 9ms/step - loss: 22.1670 - val_loss: 22.2654\n",
      "Epoch 7/50\n",
      "832/832 [==============================] - 5s 6ms/step - loss: 22.1480 - val_loss: 22.0322\n",
      "Epoch 8/50\n",
      "832/832 [==============================] - 7s 8ms/step - loss: 22.1906 - val_loss: 22.3579\n",
      "Epoch 9/50\n",
      "832/832 [==============================] - 7s 8ms/step - loss: 22.1210 - val_loss: 21.7965\n",
      "Epoch 10/50\n",
      "832/832 [==============================] - 10s 11ms/step - loss: 22.1315 - val_loss: 21.7820\n",
      "Epoch 11/50\n",
      "832/832 [==============================] - 7s 8ms/step - loss: 22.1091 - val_loss: 21.8421\n",
      "Epoch 12/50\n",
      "832/832 [==============================] - 7s 9ms/step - loss: 22.1307 - val_loss: 21.9472\n",
      "Epoch 13/50\n",
      "832/832 [==============================] - 5s 6ms/step - loss: 22.1122 - val_loss: 21.7387\n",
      "Epoch 14/50\n",
      "832/832 [==============================] - 4s 5ms/step - loss: 22.0307 - val_loss: 21.7588\n",
      "Epoch 15/50\n",
      "832/832 [==============================] - 4s 5ms/step - loss: 22.0695 - val_loss: 21.9234\n",
      "Epoch 16/50\n",
      "832/832 [==============================] - 4s 5ms/step - loss: 22.0669 - val_loss: 21.7313\n",
      "Epoch 17/50\n",
      "832/832 [==============================] - 4s 5ms/step - loss: 22.0559 - val_loss: 21.9468\n",
      "Epoch 18/50\n",
      "832/832 [==============================] - 5s 6ms/step - loss: 22.0527 - val_loss: 22.6608\n",
      "Epoch 19/50\n",
      "832/832 [==============================] - 5s 6ms/step - loss: 21.9905 - val_loss: 22.1643\n",
      "Epoch 20/50\n",
      "832/832 [==============================] - 5s 6ms/step - loss: 21.8835 - val_loss: 21.5587\n",
      "Epoch 21/50\n",
      "832/832 [==============================] - 4s 5ms/step - loss: 21.7724 - val_loss: 21.4912\n",
      "Epoch 22/50\n",
      "832/832 [==============================] - 4s 5ms/step - loss: 21.7135 - val_loss: 21.5520\n",
      "Epoch 23/50\n",
      "832/832 [==============================] - 5s 6ms/step - loss: 21.6797 - val_loss: 21.4681\n",
      "Epoch 24/50\n",
      "832/832 [==============================] - 4s 5ms/step - loss: 21.6118 - val_loss: 21.2568\n",
      "Epoch 25/50\n",
      "832/832 [==============================] - 4s 5ms/step - loss: 21.5494 - val_loss: 21.2545\n",
      "Epoch 26/50\n",
      "832/832 [==============================] - 5s 6ms/step - loss: 21.4811 - val_loss: 21.1471\n",
      "Epoch 27/50\n",
      "832/832 [==============================] - 6s 7ms/step - loss: 21.3913 - val_loss: 21.1396\n",
      "Epoch 28/50\n",
      "832/832 [==============================] - 6s 7ms/step - loss: 21.3144 - val_loss: 21.0707\n",
      "Epoch 29/50\n",
      "832/832 [==============================] - 5s 6ms/step - loss: 21.2162 - val_loss: 20.8992\n",
      "Epoch 30/50\n",
      "832/832 [==============================] - 4s 5ms/step - loss: 21.1408 - val_loss: 20.8722\n",
      "Epoch 31/50\n",
      "832/832 [==============================] - 4s 5ms/step - loss: 21.0703 - val_loss: 21.0869\n",
      "Epoch 32/50\n",
      "832/832 [==============================] - 4s 5ms/step - loss: 20.9909 - val_loss: 20.7250\n",
      "Epoch 33/50\n",
      "832/832 [==============================] - 5s 6ms/step - loss: 20.9266 - val_loss: 20.6621\n",
      "Epoch 34/50\n",
      "832/832 [==============================] - 5s 6ms/step - loss: 20.8057 - val_loss: 20.7163\n",
      "Epoch 35/50\n",
      "832/832 [==============================] - 5s 6ms/step - loss: 20.7286 - val_loss: 20.4289\n",
      "Epoch 36/50\n",
      "832/832 [==============================] - 4s 5ms/step - loss: 20.6081 - val_loss: 20.2903\n",
      "Epoch 37/50\n",
      "832/832 [==============================] - 4s 5ms/step - loss: 20.5467 - val_loss: 20.3667\n",
      "Epoch 38/50\n",
      "832/832 [==============================] - 4s 5ms/step - loss: 20.4260 - val_loss: 20.6796\n",
      "Epoch 39/50\n",
      "832/832 [==============================] - 5s 6ms/step - loss: 20.3180 - val_loss: 20.5293\n",
      "Epoch 40/50\n",
      "832/832 [==============================] - 5s 6ms/step - loss: 20.1568 - val_loss: 20.1590\n",
      "Epoch 41/50\n",
      "832/832 [==============================] - 4s 5ms/step - loss: 20.0431 - val_loss: 19.8171\n",
      "Epoch 42/50\n",
      "832/832 [==============================] - 5s 6ms/step - loss: 19.9208 - val_loss: 19.9470\n",
      "Epoch 43/50\n",
      "832/832 [==============================] - 5s 6ms/step - loss: 19.7910 - val_loss: 19.4277\n",
      "Epoch 44/50\n",
      "832/832 [==============================] - 4s 5ms/step - loss: 19.6726 - val_loss: 19.5360\n",
      "Epoch 45/50\n",
      "832/832 [==============================] - 5s 6ms/step - loss: 19.5875 - val_loss: 19.4680\n",
      "Epoch 46/50\n",
      "832/832 [==============================] - 5s 6ms/step - loss: 19.4443 - val_loss: 19.5585\n",
      "Epoch 47/50\n",
      "832/832 [==============================] - 6s 7ms/step - loss: 19.3101 - val_loss: 18.9619\n",
      "Epoch 48/50\n",
      "832/832 [==============================] - 5s 6ms/step - loss: 19.2152 - val_loss: 19.2279\n",
      "Epoch 49/50\n",
      "832/832 [==============================] - 5s 6ms/step - loss: 19.1407 - val_loss: 18.9258\n",
      "Epoch 50/50\n",
      "832/832 [==============================] - 5s 5ms/step - loss: 19.0424 - val_loss: 18.7059\n"
     ]
    },
    {
     "data": {
      "text/plain": [
       "<keras.src.callbacks.History at 0x1912d8e7c10>"
      ]
     },
     "execution_count": 37,
     "metadata": {},
     "output_type": "execute_result"
    }
   ],
   "source": [
    "# We have trained the neural network model using the scaled training data.\n",
    "# Train the model\n",
    "model.fit(X_train_scaled, y_train, epochs=50, batch_size=64, validation_data=(X_test_scaled, y_test))\n"
   ]
  },
  {
   "cell_type": "code",
   "execution_count": 38,
   "metadata": {},
   "outputs": [
    {
     "data": {
      "text/plain": [
       "<Axes: >"
      ]
     },
     "execution_count": 38,
     "metadata": {},
     "output_type": "execute_result"
    },
    {
     "data": {
      "image/png": "[encoded data removed]",
      "text/plain": [
       "<Figure size 640x480 with 1 Axes>"
      ]
     },
     "metadata": {},
     "output_type": "display_data"
    }
   ],
   "source": [
    "#After the training, we have stored the training and validation loss values to our neural network during the training process.\n",
    "\n",
    "model_losses = pd.DataFrame(model.history.history)\n",
    "model_losses.plot()\n"
   ]
  },
  {
   "cell_type": "code",
   "execution_count": 39,
   "metadata": {},
   "outputs": [
    {
     "name": "stdout",
     "output_type": "stream",
     "text": [
      "713/713 [==============================] - 1s 2ms/step\n"
     ]
    },
    {
     "data": {
      "text/plain": [
       "19.197104172224645"
      ]
     },
     "execution_count": 39,
     "metadata": {},
     "output_type": "execute_result"
    }
   ],
   "source": [
    "#We have predicted using the trained neural network on the testing data.\n",
    "#The variable predictions contains the predicted total run scores for the test set based on the model’s learned patterns\n",
    "\n",
    "# Make predictions\n",
    "predictions = model.predict(X_test_scaled)\n",
    "\n",
    "from sklearn.metrics import mean_absolute_error,mean_squared_error\n",
    "mean_absolute_error(y_test,predictions)\n",
    "\n"
   ]
  },
  {
   "cell_type": "code",
   "execution_count": 40,
   "metadata": {},
   "outputs": [],
   "source": [
    "\"\"\" We have created an interactive widget using ipywidgets to predict the score based on user input for venue, batting team, bowling team, striker, and bowler.\n",
    "We have created dropdown widgets to select values for venue, batting team, bowling team, striker, and bowler.\n",
    "Then, we have added a “Predicted Score” button widget. Whenever, the button will be clicked, the predict_score function will be called and then perform the following steps:\n",
    "Decodes the user-selected values to their original categorical values.\n",
    "Encodes and scales these values to match the format used in model training.\n",
    "Uses the trained model to make a prediction based on the user’s input.\n",
    "Displays the predicted score. \"\"\"\n",
    "\n",
    "\n",
    "import ipywidgets as widgets\n",
    "from IPython.display import display, clear_output\n",
    "\n",
    "import warnings\n",
    "warnings.filterwarnings(\"ignore\")\n",
    "\n",
    "venue = widgets.Dropdown(options=df['venue'].unique().tolist(),description='Select Venue:')\n",
    "batting_team = widgets.Dropdown(options =df['bat_team'].unique().tolist(),  description='Select Batting Team:')\n",
    "bowling_team = widgets.Dropdown(options=df['bowl_team'].unique().tolist(),  description='Select Batting Team:')\n",
    "striker = widgets.Dropdown(options=df['batsman'].unique().tolist(), description='Select Striker:')\n",
    "bowler = widgets.Dropdown(options=df['bowler'].unique().tolist(), description='Select Bowler:')\n",
    "\n",
    "predict_button = widgets.Button(description=\"Predict Score\")\n",
    "\n",
    "def predict_score(b):\n",
    "    with output:\n",
    "        clear_output()  # Clear the previous output\n",
    "        \n",
    "\n",
    "        # Decode the encoded values back to their original values\n",
    "        decoded_venue = venue_encoder.transform([venue.value])\n",
    "        decoded_batting_team = batting_team_encoder.transform([batting_team.value])\n",
    "        decoded_bowling_team = bowling_team_encoder.transform([bowling_team.value])\n",
    "        decoded_striker = striker_encoder.transform([striker.value])\n",
    "        decoded_bowler = bowler_encoder.transform([bowler.value])\n",
    "\n",
    "\n",
    "        input = np.array([decoded_venue,  decoded_batting_team, decoded_bowling_team,decoded_striker, decoded_bowler])\n",
    "        input = input.reshape(1,5)\n",
    "        input = scaler.transform(input)\n",
    "        #print(input)\n",
    "        predicted_score = model.predict(input)\n",
    "        predicted_score = int(predicted_score[0,0])\n",
    "\n",
    "        print(predicted_score)\n"
   ]
  },
  {
   "cell_type": "code",
   "execution_count": 41,
   "metadata": {},
   "outputs": [
    {
     "data": {
      "application/vnd.jupyter.widget-view+json": {
       "model_id": "7c0f2889fa9a43baa8f1c4e11a7ce222",
       "version_major": 2,
       "version_minor": 0
      },
      "text/plain": [
       "Dropdown(description='Select Venue:', options=('M Chinnaswamy Stadium', 'Punjab Cricket Association Stadium, M…"
      ]
     },
     "metadata": {},
     "output_type": "display_data"
    },
    {
     "data": {
      "application/vnd.jupyter.widget-view+json": {
       "model_id": "33887fc67a1341b3b38b0bd34639d18d",
       "version_major": 2,
       "version_minor": 0
      },
      "text/plain": [
       "Dropdown(description='Select Batting Team:', options=('Kolkata Knight Riders', 'Chennai Super Kings', 'Rajasth…"
      ]
     },
     "metadata": {},
     "output_type": "display_data"
    },
    {
     "data": {
      "application/vnd.jupyter.widget-view+json": {
       "model_id": "ece8e80ea2a24f24978dc6708ce9f783",
       "version_major": 2,
       "version_minor": 0
      },
      "text/plain": [
       "Dropdown(description='Select Batting Team:', options=('Royal Challengers Bangalore', 'Kings XI Punjab', 'Delhi…"
      ]
     },
     "metadata": {},
     "output_type": "display_data"
    },
    {
     "data": {
      "application/vnd.jupyter.widget-view+json": {
       "model_id": "786b7dcb9c9c4007969adca231547a5b",
       "version_major": 2,
       "version_minor": 0
      },
      "text/plain": [
       "Dropdown(description='Select Striker:', options=('SC Ganguly', 'BB McCullum', 'RT Ponting', 'DJ Hussey', 'Moha…"
      ]
     },
     "metadata": {},
     "output_type": "display_data"
    },
    {
     "data": {
      "application/vnd.jupyter.widget-view+json": {
       "model_id": "934c47a1f62240a0939ab35405dbfa0f",
       "version_major": 2,
       "version_minor": 0
      },
      "text/plain": [
       "Dropdown(description='Select Bowler:', options=('P Kumar', 'Z Khan', 'AA Noffke', 'JH Kallis', 'SB Joshi', 'CL…"
      ]
     },
     "metadata": {},
     "output_type": "display_data"
    },
    {
     "data": {
      "application/vnd.jupyter.widget-view+json": {
       "model_id": "15a17165a0d341c6a566c2ec6a4c84ab",
       "version_major": 2,
       "version_minor": 0
      },
      "text/plain": [
       "Button(description='Predict Score', style=ButtonStyle())"
      ]
     },
     "metadata": {},
     "output_type": "display_data"
    },
    {
     "data": {
      "application/vnd.jupyter.widget-view+json": {
       "model_id": "95b83cfd19f44fd48546310954cdc43b",
       "version_major": 2,
       "version_minor": 0
      },
      "text/plain": [
       "Output()"
      ]
     },
     "metadata": {},
     "output_type": "display_data"
    }
   ],
   "source": [
    "#The widget-based interface allows you to interactively predict the score for specific match scenarios. Now, we have set up the button to trigger the predict_score function when clicked and display the widgets for venue, batting team , bowling team, striker and bowler.\n",
    "\n",
    "predict_button.on_click(predict_score)\n",
    "output = widgets.Output()\n",
    "display(venue, batting_team, bowling_team, striker, bowler, predict_button, output)\n"
   ]
  },
  {
   "cell_type": "code",
   "execution_count": null,
   "metadata": {},
   "outputs": [],
   "source": []
  }
 ],
 "metadata": {
  "kernelspec": {
   "display_name": "Python 3",
   "language": "python",
   "name": "python3"
  },
  "language_info": {
   "codemirror_mode": {
    "name": "ipython",
    "version": 3
   },
   "file_extension": ".py",
   "mimetype": "text/x-python",
   "name": "python",
   "nbconvert_exporter": "python",
   "pygments_lexer": "ipython3",
   "version": "3.11.6"
  }
 },
 "nbformat": 4,
 "nbformat_minor": 2
}
